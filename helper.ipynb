{
 "cells": [
  {
   "cell_type": "code",
   "execution_count": 17,
   "metadata": {},
   "outputs": [],
   "source": [
    "import time\n",
    "import sys\n",
    "import itertools\n",
    "import matplotlib.pyplot as plt\n",
    "from preprocess_data import prepare_data\n",
    "import numpy as np\n",
    "from sklearn.ensemble import RandomForestClassifier\n",
    "from sklearn.svm import SVC\n",
    "from sklearn.metrics import accuracy_score\n",
    "from sklearn.ensemble import GradientBoostingClassifier\n",
    "from sklearn.metrics import confusion_matrix\n",
    "from sklearn.neighbors import KNeighborsClassifier\n",
    "from sklearn.linear_model import LogisticRegression\n",
    "from sklearn.metrics import f1_score\n",
    "from sklearn.metrics import confusion_matrix\n",
    "from xgboost import XGBClassifier\n",
    "from keras.models import Sequential\n",
    "from keras.layers import Dense\n",
    "from keras.utils import np_utils as npu\n",
    "import pandas as pd\n",
    "from sklearn.preprocessing import LabelEncoder\n",
    "from sklearn.model_selection import train_test_split\n",
    "from sklearn.preprocessing import MinMaxScaler\n",
    "from sklearn.utils import shuffle\n",
    "import seaborn as sns"
   ]
  },
  {
   "cell_type": "code",
   "execution_count": 21,
   "metadata": {},
   "outputs": [
    {
     "data": {
      "text/plain": [
       "'\\n# plot the correlated features\\nsns.heatmap(\\n    corr_matrix,\\n    vmin=-1, vmax=1, center=0,\\n    cmap=sns.diverging_palette(20, 220, n=200),\\n    square=True\\n)\\nplt.title(\"Features correlation\")\\nplt.show()\\n'"
      ]
     },
     "execution_count": 21,
     "metadata": {},
     "output_type": "execute_result"
    }
   ],
   "source": [
    "def create_numerics(data):\n",
    "    nominal_cols = data.select_dtypes(include='object').columns.tolist()\n",
    "    for nom in nominal_cols:\n",
    "        enc = LabelEncoder()\n",
    "        enc.fit(data[nom])\n",
    "        data[nom] = enc.transform(data[nom])\n",
    "\n",
    "    return data\n",
    "\n",
    "\n",
    "data = pd.read_excel(\"Data/Trojan_dataset.xlsx\")\n",
    "data = data.dropna()\n",
    "trojan_free = data.loc[data['Label']==\"'Trojan Free'\"].reset_index()\n",
    "# print(len(trojan_free))    \n",
    "for i in range(len(trojan_free)):\n",
    "    category_substring = trojan_free['Circuit'][i].replace(\"'\",'')\n",
    "    circuit_group = data[data['Circuit'].str.contains(category_substring)]\n",
    "    # print(circuit_group)\n",
    "    df1 = circuit_group.iloc[0:1]\n",
    "    # print((circuit_group))\n",
    "        \n",
    "    if len(circuit_group) > 1:\n",
    "        # obj = ([df1]*(len(circuit_group) - 1))\n",
    "        length = len(circuit_group) - 1\n",
    "        for j in range(length):\n",
    "            data = pd.concat([data , df1 ], axis = 0)\n",
    "\n",
    "\n",
    "data.drop(columns=['Circuit'], inplace=True)\n",
    "\n",
    "data = create_numerics(data)\n",
    "\n",
    "data = shuffle(data, random_state=42)\n",
    "corr_matrix = data.corr().abs()\n",
    "upper = corr_matrix.where(np.triu(np.ones(corr_matrix.shape),\n",
    "                                    k=1).astype(bool))\n",
    "to_drop = [column for column in upper.columns if any(upper[column] > 0.95)]\n",
    "data = data.drop(data[to_drop], axis=1)\n",
    "y = pd.DataFrame(data[\"Label\"]).values\n",
    "x = data.drop([\"Label\"], axis=1)\n",
    "scaler = MinMaxScaler(feature_range=(0, 1))\n",
    "x = scaler.fit_transform(x)\n",
    "x_train, x_test, y_train, y_test = train_test_split(x, y, test_size=0.3, random_state=1)\n",
    "\n",
    "\"\"\"\n",
    "# plot the correlated features\n",
    "sns.heatmap(\n",
    "    corr_matrix,\n",
    "    vmin=-1, vmax=1, center=0,\n",
    "    cmap=sns.diverging_palette(20, 220, n=200),\n",
    "    square=True\n",
    ")\n",
    "plt.title(\"Features correlation\")\n",
    "plt.show()\n",
    "\"\"\"\n",
    "    # return(x_train, x_test, y_train, y_test)"
   ]
  },
  {
   "cell_type": "code",
   "execution_count": 10,
   "metadata": {},
   "outputs": [
    {
     "data": {
      "text/plain": [
       "0    198177\n",
       "Name: Number of nets, dtype: int64"
      ]
     },
     "execution_count": 10,
     "metadata": {},
     "output_type": "execute_result"
    }
   ],
   "source": [
    "data = pd.read_excel(\"Data/Trojan_dataset.xlsx\")\n",
    "obj = data.iloc[0:1 , ]\n",
    "obj"
   ]
  }
 ],
 "metadata": {
  "kernelspec": {
   "display_name": "Python 3",
   "language": "python",
   "name": "python3"
  },
  "language_info": {
   "codemirror_mode": {
    "name": "ipython",
    "version": 3
   },
   "file_extension": ".py",
   "mimetype": "text/x-python",
   "name": "python",
   "nbconvert_exporter": "python",
   "pygments_lexer": "ipython3",
   "version": "3.8.10"
  },
  "orig_nbformat": 4
 },
 "nbformat": 4,
 "nbformat_minor": 2
}
